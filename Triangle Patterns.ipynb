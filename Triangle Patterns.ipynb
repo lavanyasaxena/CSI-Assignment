{
 "cells": [
  {
   "cell_type": "markdown",
   "id": "2ba09df1-1d2e-4629-a3bb-d7dbdd6e5adb",
   "metadata": {},
   "source": [
    "## Lower Triangular Pattern"
   ]
  },
  {
   "cell_type": "code",
   "execution_count": 4,
   "id": "87f3839f-65b9-4ac5-a678-44b516eacdd2",
   "metadata": {},
   "outputs": [
    {
     "name": "stdin",
     "output_type": "stream",
     "text": [
      "Enter number of rows: 8\n"
     ]
    },
    {
     "name": "stdout",
     "output_type": "stream",
     "text": [
      "*\n",
      "**\n",
      "***\n",
      "****\n",
      "*****\n",
      "******\n",
      "*******\n",
      "********\n"
     ]
    }
   ],
   "source": [
    "# Ask user for number of rows to be printed\n",
    "rows=int(input('Enter number of rows:'))\n",
    "\n",
    "# After knowing number of rows, traverse through row and column to print\n",
    "for row in range(rows):\n",
    "    for col in range(row+1):\n",
    "        print(\"*\", end=\"\")\n",
    "    print()"
   ]
  },
  {
   "cell_type": "markdown",
   "id": "4288f921-df9c-4c93-ab85-a1cbf861ff73",
   "metadata": {},
   "source": []
  },
  {
   "cell_type": "markdown",
   "id": "f3dcb4ef-a1c2-49d5-ae05-65b21cb058a2",
   "metadata": {},
   "source": [
    "## Upper Triangular Pattern"
   ]
  },
  {
   "cell_type": "code",
   "execution_count": 9,
   "id": "93b3a72f-f9d1-4abe-b818-5e88ea320b4f",
   "metadata": {},
   "outputs": [
    {
     "name": "stdin",
     "output_type": "stream",
     "text": [
      "Enter number of rows: 8\n"
     ]
    },
    {
     "name": "stdout",
     "output_type": "stream",
     "text": [
      "********\n",
      " *******\n",
      "  ******\n",
      "   *****\n",
      "    ****\n",
      "     ***\n",
      "      **\n",
      "       *\n"
     ]
    }
   ],
   "source": [
    "# Ask user for number of rows to be printed\n",
    "rows=int(input('Enter number of rows:'))\n",
    "\n",
    "# After knowing number of rows, traverse through row and column to print if column is less than row then print \" \" otherwise \"*\"\n",
    "for row in range(rows):\n",
    "    for col in range(rows):\n",
    "        if col<row:\n",
    "            print(\" \",end=\"\")\n",
    "        else:\n",
    "            print(\"*\",end=\"\")\n",
    "    print()"
   ]
  },
  {
   "cell_type": "markdown",
   "id": "243f438c-1e86-44b4-be7e-3f068aa13f6e",
   "metadata": {},
   "source": []
  },
  {
   "cell_type": "markdown",
   "id": "4d1629a7-b638-4ed8-b0bf-dfd7e6867041",
   "metadata": {},
   "source": [
    "## Pyramid Pattern"
   ]
  },
  {
   "cell_type": "code",
   "execution_count": 13,
   "id": "0c54a9c6-e767-4888-a1d5-6488765b08ab",
   "metadata": {},
   "outputs": [
    {
     "name": "stdin",
     "output_type": "stream",
     "text": [
      "Enter number of rows: 8\n"
     ]
    },
    {
     "name": "stdout",
     "output_type": "stream",
     "text": [
      "       *\n",
      "      ***\n",
      "     *****\n",
      "    *******\n",
      "   *********\n",
      "  ***********\n",
      " *************\n",
      "***************\n"
     ]
    }
   ],
   "source": [
    "# Ask user for number of rows to be printed\n",
    "total_rows=int(input('Enter number of rows:'))\n",
    "\n",
    "# Traverse through each row and column\n",
    "for row in range(1, total_rows+1):\n",
    "    # Print space if it satisfies this condition\n",
    "    for space in range(total_rows-row):\n",
    "        print(\" \", end=\"\")\n",
    "    # Print \"*\" for each column\n",
    "    for col in range(1, 2*row):\n",
    "        print(\"*\", end=\"\")\n",
    "    print()"
   ]
  },
  {
   "cell_type": "code",
   "execution_count": null,
   "id": "a9731d66-045d-4fda-a445-18faefb08787",
   "metadata": {},
   "outputs": [],
   "source": []
  }
 ],
 "metadata": {
  "kernelspec": {
   "display_name": "Python 3 (ipykernel)",
   "language": "python",
   "name": "python3"
  },
  "language_info": {
   "codemirror_mode": {
    "name": "ipython",
    "version": 3
   },
   "file_extension": ".py",
   "mimetype": "text/x-python",
   "name": "python",
   "nbconvert_exporter": "python",
   "pygments_lexer": "ipython3",
   "version": "3.12.4"
  }
 },
 "nbformat": 4,
 "nbformat_minor": 5
}
